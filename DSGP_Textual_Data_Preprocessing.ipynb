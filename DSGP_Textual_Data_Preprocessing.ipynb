{
  "nbformat": 4,
  "nbformat_minor": 0,
  "metadata": {
    "colab": {
      "provenance": [],
      "include_colab_link": true
    },
    "kernelspec": {
      "name": "python3",
      "display_name": "Python 3"
    },
    "language_info": {
      "name": "python"
    }
  },
  "cells": [
    {
      "cell_type": "markdown",
      "metadata": {
        "id": "view-in-github",
        "colab_type": "text"
      },
      "source": [
        "<a href=\"https://colab.research.google.com/github/SiyumiJayawardhane/Area-of-a-Circle/blob/main/DSGP_Textual_Data_Preprocessing.ipynb\" target=\"_parent\"><img src=\"https://colab.research.google.com/assets/colab-badge.svg\" alt=\"Open In Colab\"/></a>"
      ]
    },
    {
      "cell_type": "markdown",
      "source": [
        "**1.Data Preprocessing**"
      ],
      "metadata": {
        "id": "zhcKDdkWUmTa"
      }
    },
    {
      "cell_type": "markdown",
      "source": [
        "**Import Libraries**"
      ],
      "metadata": {
        "id": "_dUEfxAVgR6d"
      }
    },
    {
      "cell_type": "code",
      "execution_count": null,
      "metadata": {
        "id": "MAC91i2y6AKc"
      },
      "outputs": [],
      "source": [
        "# Import necessary libraries\n",
        "import pandas as pd\n",
        "from sklearn.model_selection import train_test_split\n",
        "from sklearn.preprocessing import LabelEncoder, StandardScaler\n",
        "import seaborn as sns\n",
        "import matplotlib.pyplot as plt\n"
      ]
    },
    {
      "cell_type": "markdown",
      "source": [
        "**Load and Inspect the Dataset**"
      ],
      "metadata": {
        "id": "ZJ4I7oWFUrpR"
      }
    },
    {
      "cell_type": "code",
      "source": [
        "from google.colab import drive\n",
        "drive.mount('/content/drive')"
      ],
      "metadata": {
        "id": "iEYu5rBfJdOU",
        "colab": {
          "base_uri": "https://localhost:8080/"
        },
        "outputId": "4a061230-bca0-4a40-8898-036861c797ba"
      },
      "execution_count": null,
      "outputs": [
        {
          "output_type": "stream",
          "name": "stdout",
          "text": [
            "Drive already mounted at /content/drive; to attempt to forcibly remount, call drive.mount(\"/content/drive\", force_remount=True).\n"
          ]
        }
      ]
    },
    {
      "cell_type": "code",
      "source": [
        "data = pd.read_csv('/content/drive/MyDrive/DSGP/Sheet1.csv')"
      ],
      "metadata": {
        "id": "-ZyWIf9IKqp-"
      },
      "execution_count": null,
      "outputs": []
    },
    {
      "cell_type": "code",
      "source": [
        "# Display the first few rows to understand the structure of the dataset\n",
        "print(data.head())"
      ],
      "metadata": {
        "colab": {
          "base_uri": "https://localhost:8080/"
        },
        "id": "hhg8nrwgSJJm",
        "outputId": "87ebc595-ee05-41a3-beaa-00ac5c62220d"
      },
      "execution_count": null,
      "outputs": [
        {
          "output_type": "stream",
          "name": "stdout",
          "text": [
            "   public_id  lesion_id  patient_id      path localization  larger_size  \\\n",
            "0          0         50          48  0000.png       Tongue          2.0   \n",
            "1          1         50          48  0001.png       Tongue          2.0   \n",
            "2          2         41          39  0002.png       Tongue          2.5   \n",
            "3          3         41          39  0003.png       Tongue          2.5   \n",
            "4          4         87          81  0004.png          Lip          1.5   \n",
            "\n",
            "  tobacco_use alcohol_consumption sun_exposure gender skin_color  age_group  \\\n",
            "0         Yes                  No           No      M      Black          2   \n",
            "1         Yes                  No           No      M      Black          2   \n",
            "2         Yes              Former          Yes      M      White          1   \n",
            "3         Yes              Former          Yes      M      White          1   \n",
            "4      Former                 Yes          Yes      F      White          2   \n",
            "\n",
            "  diagnosis dysplasia_severity TaskII   TaskIII TaskIV  \n",
            "0      OSCC                NaN   OSCC  Presence   OSCC  \n",
            "1      OSCC                NaN   OSCC  Presence   OSCC  \n",
            "2      OSCC                NaN   OSCC  Presence   OSCC  \n",
            "3      OSCC                NaN   OSCC  Presence   OSCC  \n",
            "4      OSCC                NaN   OSCC  Presence   OSCC  \n"
          ]
        }
      ]
    },
    {
      "cell_type": "markdown",
      "source": [
        "**Remove duplicate rows**"
      ],
      "metadata": {
        "id": "7TSgbl0zFXC9"
      }
    },
    {
      "cell_type": "code",
      "source": [
        "data = data.drop_duplicates()"
      ],
      "metadata": {
        "id": "B6pimpVSFWMy"
      },
      "execution_count": null,
      "outputs": []
    },
    {
      "cell_type": "markdown",
      "source": [
        "**Select only the relevant columns**"
      ],
      "metadata": {
        "id": "x-ZnB29CFjEB"
      }
    },
    {
      "cell_type": "code",
      "source": [
        "wanted_columns = [\n",
        "    'tobacco_use', 'alcohol_consumption', 'sun_exposure',\n",
        "    'gender', 'skin_color', 'age_group', 'larger_size','localization','dysplasia_severity',\n",
        "    'diagnosis']\n",
        "data = data[wanted_columns]"
      ],
      "metadata": {
        "id": "ezbA_J7ZFisC"
      },
      "execution_count": null,
      "outputs": []
    },
    {
      "cell_type": "markdown",
      "source": [
        "**Display the first few rows of the cleaned dataset**"
      ],
      "metadata": {
        "id": "shxKv0OfHE5g"
      }
    },
    {
      "cell_type": "code",
      "source": [
        "print(\"Cleaned Dataset Preview:\")\n",
        "print(data.head())"
      ],
      "metadata": {
        "colab": {
          "base_uri": "https://localhost:8080/"
        },
        "id": "XdXR64QkHMVR",
        "outputId": "e089d4db-b37f-49a6-8ce1-d1cc3130c32c"
      },
      "execution_count": null,
      "outputs": [
        {
          "output_type": "stream",
          "name": "stdout",
          "text": [
            "Cleaned Dataset Preview:\n",
            "  tobacco_use alcohol_consumption sun_exposure gender skin_color  age_group  \\\n",
            "0         Yes                  No           No      M      Black          2   \n",
            "1         Yes                  No           No      M      Black          2   \n",
            "2         Yes              Former          Yes      M      White          1   \n",
            "3         Yes              Former          Yes      M      White          1   \n",
            "4      Former                 Yes          Yes      F      White          2   \n",
            "\n",
            "   larger_size localization dysplasia_severity diagnosis  \n",
            "0          2.0       Tongue                NaN      OSCC  \n",
            "1          2.0       Tongue                NaN      OSCC  \n",
            "2          2.5       Tongue                NaN      OSCC  \n",
            "3          2.5       Tongue                NaN      OSCC  \n",
            "4          1.5          Lip                NaN      OSCC  \n"
          ]
        }
      ]
    },
    {
      "cell_type": "code",
      "source": [
        "data"
      ],
      "metadata": {
        "colab": {
          "base_uri": "https://localhost:8080/",
          "height": 495
        },
        "id": "SIGGVfZLNoqX",
        "outputId": "99f3d453-f494-478f-8658-76abcf8e0314"
      },
      "execution_count": null,
      "outputs": [
        {
          "output_type": "execute_result",
          "data": {
            "text/plain": [
              "     tobacco_use alcohol_consumption sun_exposure gender skin_color  \\\n",
              "0            Yes                  No           No      M      Black   \n",
              "1            Yes                  No           No      M      Black   \n",
              "2            Yes              Former          Yes      M      White   \n",
              "3            Yes              Former          Yes      M      White   \n",
              "4         Former                 Yes          Yes      F      White   \n",
              "...          ...                 ...          ...    ...        ...   \n",
              "2232      Former              Former          Yes      F      Asian   \n",
              "2233         Yes                 Yes           No      M   Hispanic   \n",
              "2234          No                  No          Yes      F      Brown   \n",
              "2235          No                  No           No      M      Brown   \n",
              "2236         Yes              Former           No      F      Asian   \n",
              "\n",
              "      age_group  larger_size    localization dysplasia_severity  \\\n",
              "0             2          2.0          Tongue                NaN   \n",
              "1             2          2.0          Tongue                NaN   \n",
              "2             1          2.5          Tongue                NaN   \n",
              "3             1          2.5          Tongue                NaN   \n",
              "4             2          1.5             Lip                NaN   \n",
              "...         ...          ...             ...                ...   \n",
              "2232          3          1.8         Gingiva               Mild   \n",
              "2233          5          2.1   Buccal mucosa             Severe   \n",
              "2234          3          1.8           Cheek           Moderate   \n",
              "2235          3          2.3  Floor of mouth             Severe   \n",
              "2236          4          2.5           Cheek           Moderate   \n",
              "\n",
              "                          diagnosis  \n",
              "0                              OSCC  \n",
              "1                              OSCC  \n",
              "2                              OSCC  \n",
              "3                              OSCC  \n",
              "4                              OSCC  \n",
              "...                             ...  \n",
              "2232                   Precancerous  \n",
              "2233                           OSCC  \n",
              "2234                           OSCC  \n",
              "2235                         Benign  \n",
              "2236  Leukoplakia without dysplasia  \n",
              "\n",
              "[2237 rows x 10 columns]"
            ],
            "text/html": [
              "\n",
              "  <div id=\"df-26be7e30-ee41-4200-b603-aa001fe99bf3\" class=\"colab-df-container\">\n",
              "    <div>\n",
              "<style scoped>\n",
              "    .dataframe tbody tr th:only-of-type {\n",
              "        vertical-align: middle;\n",
              "    }\n",
              "\n",
              "    .dataframe tbody tr th {\n",
              "        vertical-align: top;\n",
              "    }\n",
              "\n",
              "    .dataframe thead th {\n",
              "        text-align: right;\n",
              "    }\n",
              "</style>\n",
              "<table border=\"1\" class=\"dataframe\">\n",
              "  <thead>\n",
              "    <tr style=\"text-align: right;\">\n",
              "      <th></th>\n",
              "      <th>tobacco_use</th>\n",
              "      <th>alcohol_consumption</th>\n",
              "      <th>sun_exposure</th>\n",
              "      <th>gender</th>\n",
              "      <th>skin_color</th>\n",
              "      <th>age_group</th>\n",
              "      <th>larger_size</th>\n",
              "      <th>localization</th>\n",
              "      <th>dysplasia_severity</th>\n",
              "      <th>diagnosis</th>\n",
              "    </tr>\n",
              "  </thead>\n",
              "  <tbody>\n",
              "    <tr>\n",
              "      <th>0</th>\n",
              "      <td>Yes</td>\n",
              "      <td>No</td>\n",
              "      <td>No</td>\n",
              "      <td>M</td>\n",
              "      <td>Black</td>\n",
              "      <td>2</td>\n",
              "      <td>2.0</td>\n",
              "      <td>Tongue</td>\n",
              "      <td>NaN</td>\n",
              "      <td>OSCC</td>\n",
              "    </tr>\n",
              "    <tr>\n",
              "      <th>1</th>\n",
              "      <td>Yes</td>\n",
              "      <td>No</td>\n",
              "      <td>No</td>\n",
              "      <td>M</td>\n",
              "      <td>Black</td>\n",
              "      <td>2</td>\n",
              "      <td>2.0</td>\n",
              "      <td>Tongue</td>\n",
              "      <td>NaN</td>\n",
              "      <td>OSCC</td>\n",
              "    </tr>\n",
              "    <tr>\n",
              "      <th>2</th>\n",
              "      <td>Yes</td>\n",
              "      <td>Former</td>\n",
              "      <td>Yes</td>\n",
              "      <td>M</td>\n",
              "      <td>White</td>\n",
              "      <td>1</td>\n",
              "      <td>2.5</td>\n",
              "      <td>Tongue</td>\n",
              "      <td>NaN</td>\n",
              "      <td>OSCC</td>\n",
              "    </tr>\n",
              "    <tr>\n",
              "      <th>3</th>\n",
              "      <td>Yes</td>\n",
              "      <td>Former</td>\n",
              "      <td>Yes</td>\n",
              "      <td>M</td>\n",
              "      <td>White</td>\n",
              "      <td>1</td>\n",
              "      <td>2.5</td>\n",
              "      <td>Tongue</td>\n",
              "      <td>NaN</td>\n",
              "      <td>OSCC</td>\n",
              "    </tr>\n",
              "    <tr>\n",
              "      <th>4</th>\n",
              "      <td>Former</td>\n",
              "      <td>Yes</td>\n",
              "      <td>Yes</td>\n",
              "      <td>F</td>\n",
              "      <td>White</td>\n",
              "      <td>2</td>\n",
              "      <td>1.5</td>\n",
              "      <td>Lip</td>\n",
              "      <td>NaN</td>\n",
              "      <td>OSCC</td>\n",
              "    </tr>\n",
              "    <tr>\n",
              "      <th>...</th>\n",
              "      <td>...</td>\n",
              "      <td>...</td>\n",
              "      <td>...</td>\n",
              "      <td>...</td>\n",
              "      <td>...</td>\n",
              "      <td>...</td>\n",
              "      <td>...</td>\n",
              "      <td>...</td>\n",
              "      <td>...</td>\n",
              "      <td>...</td>\n",
              "    </tr>\n",
              "    <tr>\n",
              "      <th>2232</th>\n",
              "      <td>Former</td>\n",
              "      <td>Former</td>\n",
              "      <td>Yes</td>\n",
              "      <td>F</td>\n",
              "      <td>Asian</td>\n",
              "      <td>3</td>\n",
              "      <td>1.8</td>\n",
              "      <td>Gingiva</td>\n",
              "      <td>Mild</td>\n",
              "      <td>Precancerous</td>\n",
              "    </tr>\n",
              "    <tr>\n",
              "      <th>2233</th>\n",
              "      <td>Yes</td>\n",
              "      <td>Yes</td>\n",
              "      <td>No</td>\n",
              "      <td>M</td>\n",
              "      <td>Hispanic</td>\n",
              "      <td>5</td>\n",
              "      <td>2.1</td>\n",
              "      <td>Buccal mucosa</td>\n",
              "      <td>Severe</td>\n",
              "      <td>OSCC</td>\n",
              "    </tr>\n",
              "    <tr>\n",
              "      <th>2234</th>\n",
              "      <td>No</td>\n",
              "      <td>No</td>\n",
              "      <td>Yes</td>\n",
              "      <td>F</td>\n",
              "      <td>Brown</td>\n",
              "      <td>3</td>\n",
              "      <td>1.8</td>\n",
              "      <td>Cheek</td>\n",
              "      <td>Moderate</td>\n",
              "      <td>OSCC</td>\n",
              "    </tr>\n",
              "    <tr>\n",
              "      <th>2235</th>\n",
              "      <td>No</td>\n",
              "      <td>No</td>\n",
              "      <td>No</td>\n",
              "      <td>M</td>\n",
              "      <td>Brown</td>\n",
              "      <td>3</td>\n",
              "      <td>2.3</td>\n",
              "      <td>Floor of mouth</td>\n",
              "      <td>Severe</td>\n",
              "      <td>Benign</td>\n",
              "    </tr>\n",
              "    <tr>\n",
              "      <th>2236</th>\n",
              "      <td>Yes</td>\n",
              "      <td>Former</td>\n",
              "      <td>No</td>\n",
              "      <td>F</td>\n",
              "      <td>Asian</td>\n",
              "      <td>4</td>\n",
              "      <td>2.5</td>\n",
              "      <td>Cheek</td>\n",
              "      <td>Moderate</td>\n",
              "      <td>Leukoplakia without dysplasia</td>\n",
              "    </tr>\n",
              "  </tbody>\n",
              "</table>\n",
              "<p>2237 rows × 10 columns</p>\n",
              "</div>\n",
              "    <div class=\"colab-df-buttons\">\n",
              "\n",
              "  <div class=\"colab-df-container\">\n",
              "    <button class=\"colab-df-convert\" onclick=\"convertToInteractive('df-26be7e30-ee41-4200-b603-aa001fe99bf3')\"\n",
              "            title=\"Convert this dataframe to an interactive table.\"\n",
              "            style=\"display:none;\">\n",
              "\n",
              "  <svg xmlns=\"http://www.w3.org/2000/svg\" height=\"24px\" viewBox=\"0 -960 960 960\">\n",
              "    <path d=\"M120-120v-720h720v720H120Zm60-500h600v-160H180v160Zm220 220h160v-160H400v160Zm0 220h160v-160H400v160ZM180-400h160v-160H180v160Zm440 0h160v-160H620v160ZM180-180h160v-160H180v160Zm440 0h160v-160H620v160Z\"/>\n",
              "  </svg>\n",
              "    </button>\n",
              "\n",
              "  <style>\n",
              "    .colab-df-container {\n",
              "      display:flex;\n",
              "      gap: 12px;\n",
              "    }\n",
              "\n",
              "    .colab-df-convert {\n",
              "      background-color: #E8F0FE;\n",
              "      border: none;\n",
              "      border-radius: 50%;\n",
              "      cursor: pointer;\n",
              "      display: none;\n",
              "      fill: #1967D2;\n",
              "      height: 32px;\n",
              "      padding: 0 0 0 0;\n",
              "      width: 32px;\n",
              "    }\n",
              "\n",
              "    .colab-df-convert:hover {\n",
              "      background-color: #E2EBFA;\n",
              "      box-shadow: 0px 1px 2px rgba(60, 64, 67, 0.3), 0px 1px 3px 1px rgba(60, 64, 67, 0.15);\n",
              "      fill: #174EA6;\n",
              "    }\n",
              "\n",
              "    .colab-df-buttons div {\n",
              "      margin-bottom: 4px;\n",
              "    }\n",
              "\n",
              "    [theme=dark] .colab-df-convert {\n",
              "      background-color: #3B4455;\n",
              "      fill: #D2E3FC;\n",
              "    }\n",
              "\n",
              "    [theme=dark] .colab-df-convert:hover {\n",
              "      background-color: #434B5C;\n",
              "      box-shadow: 0px 1px 3px 1px rgba(0, 0, 0, 0.15);\n",
              "      filter: drop-shadow(0px 1px 2px rgba(0, 0, 0, 0.3));\n",
              "      fill: #FFFFFF;\n",
              "    }\n",
              "  </style>\n",
              "\n",
              "    <script>\n",
              "      const buttonEl =\n",
              "        document.querySelector('#df-26be7e30-ee41-4200-b603-aa001fe99bf3 button.colab-df-convert');\n",
              "      buttonEl.style.display =\n",
              "        google.colab.kernel.accessAllowed ? 'block' : 'none';\n",
              "\n",
              "      async function convertToInteractive(key) {\n",
              "        const element = document.querySelector('#df-26be7e30-ee41-4200-b603-aa001fe99bf3');\n",
              "        const dataTable =\n",
              "          await google.colab.kernel.invokeFunction('convertToInteractive',\n",
              "                                                    [key], {});\n",
              "        if (!dataTable) return;\n",
              "\n",
              "        const docLinkHtml = 'Like what you see? Visit the ' +\n",
              "          '<a target=\"_blank\" href=https://colab.research.google.com/notebooks/data_table.ipynb>data table notebook</a>'\n",
              "          + ' to learn more about interactive tables.';\n",
              "        element.innerHTML = '';\n",
              "        dataTable['output_type'] = 'display_data';\n",
              "        await google.colab.output.renderOutput(dataTable, element);\n",
              "        const docLink = document.createElement('div');\n",
              "        docLink.innerHTML = docLinkHtml;\n",
              "        element.appendChild(docLink);\n",
              "      }\n",
              "    </script>\n",
              "  </div>\n",
              "\n",
              "\n",
              "<div id=\"df-93318a74-8c52-403a-a9bb-2b8cc78afc5b\">\n",
              "  <button class=\"colab-df-quickchart\" onclick=\"quickchart('df-93318a74-8c52-403a-a9bb-2b8cc78afc5b')\"\n",
              "            title=\"Suggest charts\"\n",
              "            style=\"display:none;\">\n",
              "\n",
              "<svg xmlns=\"http://www.w3.org/2000/svg\" height=\"24px\"viewBox=\"0 0 24 24\"\n",
              "     width=\"24px\">\n",
              "    <g>\n",
              "        <path d=\"M19 3H5c-1.1 0-2 .9-2 2v14c0 1.1.9 2 2 2h14c1.1 0 2-.9 2-2V5c0-1.1-.9-2-2-2zM9 17H7v-7h2v7zm4 0h-2V7h2v10zm4 0h-2v-4h2v4z\"/>\n",
              "    </g>\n",
              "</svg>\n",
              "  </button>\n",
              "\n",
              "<style>\n",
              "  .colab-df-quickchart {\n",
              "      --bg-color: #E8F0FE;\n",
              "      --fill-color: #1967D2;\n",
              "      --hover-bg-color: #E2EBFA;\n",
              "      --hover-fill-color: #174EA6;\n",
              "      --disabled-fill-color: #AAA;\n",
              "      --disabled-bg-color: #DDD;\n",
              "  }\n",
              "\n",
              "  [theme=dark] .colab-df-quickchart {\n",
              "      --bg-color: #3B4455;\n",
              "      --fill-color: #D2E3FC;\n",
              "      --hover-bg-color: #434B5C;\n",
              "      --hover-fill-color: #FFFFFF;\n",
              "      --disabled-bg-color: #3B4455;\n",
              "      --disabled-fill-color: #666;\n",
              "  }\n",
              "\n",
              "  .colab-df-quickchart {\n",
              "    background-color: var(--bg-color);\n",
              "    border: none;\n",
              "    border-radius: 50%;\n",
              "    cursor: pointer;\n",
              "    display: none;\n",
              "    fill: var(--fill-color);\n",
              "    height: 32px;\n",
              "    padding: 0;\n",
              "    width: 32px;\n",
              "  }\n",
              "\n",
              "  .colab-df-quickchart:hover {\n",
              "    background-color: var(--hover-bg-color);\n",
              "    box-shadow: 0 1px 2px rgba(60, 64, 67, 0.3), 0 1px 3px 1px rgba(60, 64, 67, 0.15);\n",
              "    fill: var(--button-hover-fill-color);\n",
              "  }\n",
              "\n",
              "  .colab-df-quickchart-complete:disabled,\n",
              "  .colab-df-quickchart-complete:disabled:hover {\n",
              "    background-color: var(--disabled-bg-color);\n",
              "    fill: var(--disabled-fill-color);\n",
              "    box-shadow: none;\n",
              "  }\n",
              "\n",
              "  .colab-df-spinner {\n",
              "    border: 2px solid var(--fill-color);\n",
              "    border-color: transparent;\n",
              "    border-bottom-color: var(--fill-color);\n",
              "    animation:\n",
              "      spin 1s steps(1) infinite;\n",
              "  }\n",
              "\n",
              "  @keyframes spin {\n",
              "    0% {\n",
              "      border-color: transparent;\n",
              "      border-bottom-color: var(--fill-color);\n",
              "      border-left-color: var(--fill-color);\n",
              "    }\n",
              "    20% {\n",
              "      border-color: transparent;\n",
              "      border-left-color: var(--fill-color);\n",
              "      border-top-color: var(--fill-color);\n",
              "    }\n",
              "    30% {\n",
              "      border-color: transparent;\n",
              "      border-left-color: var(--fill-color);\n",
              "      border-top-color: var(--fill-color);\n",
              "      border-right-color: var(--fill-color);\n",
              "    }\n",
              "    40% {\n",
              "      border-color: transparent;\n",
              "      border-right-color: var(--fill-color);\n",
              "      border-top-color: var(--fill-color);\n",
              "    }\n",
              "    60% {\n",
              "      border-color: transparent;\n",
              "      border-right-color: var(--fill-color);\n",
              "    }\n",
              "    80% {\n",
              "      border-color: transparent;\n",
              "      border-right-color: var(--fill-color);\n",
              "      border-bottom-color: var(--fill-color);\n",
              "    }\n",
              "    90% {\n",
              "      border-color: transparent;\n",
              "      border-bottom-color: var(--fill-color);\n",
              "    }\n",
              "  }\n",
              "</style>\n",
              "\n",
              "  <script>\n",
              "    async function quickchart(key) {\n",
              "      const quickchartButtonEl =\n",
              "        document.querySelector('#' + key + ' button');\n",
              "      quickchartButtonEl.disabled = true;  // To prevent multiple clicks.\n",
              "      quickchartButtonEl.classList.add('colab-df-spinner');\n",
              "      try {\n",
              "        const charts = await google.colab.kernel.invokeFunction(\n",
              "            'suggestCharts', [key], {});\n",
              "      } catch (error) {\n",
              "        console.error('Error during call to suggestCharts:', error);\n",
              "      }\n",
              "      quickchartButtonEl.classList.remove('colab-df-spinner');\n",
              "      quickchartButtonEl.classList.add('colab-df-quickchart-complete');\n",
              "    }\n",
              "    (() => {\n",
              "      let quickchartButtonEl =\n",
              "        document.querySelector('#df-93318a74-8c52-403a-a9bb-2b8cc78afc5b button');\n",
              "      quickchartButtonEl.style.display =\n",
              "        google.colab.kernel.accessAllowed ? 'block' : 'none';\n",
              "    })();\n",
              "  </script>\n",
              "</div>\n",
              "\n",
              "  <div id=\"id_f102ca18-6afa-4e38-93f9-d004dc5b27ff\">\n",
              "    <style>\n",
              "      .colab-df-generate {\n",
              "        background-color: #E8F0FE;\n",
              "        border: none;\n",
              "        border-radius: 50%;\n",
              "        cursor: pointer;\n",
              "        display: none;\n",
              "        fill: #1967D2;\n",
              "        height: 32px;\n",
              "        padding: 0 0 0 0;\n",
              "        width: 32px;\n",
              "      }\n",
              "\n",
              "      .colab-df-generate:hover {\n",
              "        background-color: #E2EBFA;\n",
              "        box-shadow: 0px 1px 2px rgba(60, 64, 67, 0.3), 0px 1px 3px 1px rgba(60, 64, 67, 0.15);\n",
              "        fill: #174EA6;\n",
              "      }\n",
              "\n",
              "      [theme=dark] .colab-df-generate {\n",
              "        background-color: #3B4455;\n",
              "        fill: #D2E3FC;\n",
              "      }\n",
              "\n",
              "      [theme=dark] .colab-df-generate:hover {\n",
              "        background-color: #434B5C;\n",
              "        box-shadow: 0px 1px 3px 1px rgba(0, 0, 0, 0.15);\n",
              "        filter: drop-shadow(0px 1px 2px rgba(0, 0, 0, 0.3));\n",
              "        fill: #FFFFFF;\n",
              "      }\n",
              "    </style>\n",
              "    <button class=\"colab-df-generate\" onclick=\"generateWithVariable('data')\"\n",
              "            title=\"Generate code using this dataframe.\"\n",
              "            style=\"display:none;\">\n",
              "\n",
              "  <svg xmlns=\"http://www.w3.org/2000/svg\" height=\"24px\"viewBox=\"0 0 24 24\"\n",
              "       width=\"24px\">\n",
              "    <path d=\"M7,19H8.4L18.45,9,17,7.55,7,17.6ZM5,21V16.75L18.45,3.32a2,2,0,0,1,2.83,0l1.4,1.43a1.91,1.91,0,0,1,.58,1.4,1.91,1.91,0,0,1-.58,1.4L9.25,21ZM18.45,9,17,7.55Zm-12,3A5.31,5.31,0,0,0,4.9,8.1,5.31,5.31,0,0,0,1,6.5,5.31,5.31,0,0,0,4.9,4.9,5.31,5.31,0,0,0,6.5,1,5.31,5.31,0,0,0,8.1,4.9,5.31,5.31,0,0,0,12,6.5,5.46,5.46,0,0,0,6.5,12Z\"/>\n",
              "  </svg>\n",
              "    </button>\n",
              "    <script>\n",
              "      (() => {\n",
              "      const buttonEl =\n",
              "        document.querySelector('#id_f102ca18-6afa-4e38-93f9-d004dc5b27ff button.colab-df-generate');\n",
              "      buttonEl.style.display =\n",
              "        google.colab.kernel.accessAllowed ? 'block' : 'none';\n",
              "\n",
              "      buttonEl.onclick = () => {\n",
              "        google.colab.notebook.generateWithVariable('data');\n",
              "      }\n",
              "      })();\n",
              "    </script>\n",
              "  </div>\n",
              "\n",
              "    </div>\n",
              "  </div>\n"
            ],
            "application/vnd.google.colaboratory.intrinsic+json": {
              "type": "dataframe",
              "variable_name": "data",
              "summary": "{\n  \"name\": \"data\",\n  \"rows\": 2237,\n  \"fields\": [\n    {\n      \"column\": \"tobacco_use\",\n      \"properties\": {\n        \"dtype\": \"category\",\n        \"num_unique_values\": 4,\n        \"samples\": [\n          \"Former\",\n          \"Not informed\",\n          \"Yes\"\n        ],\n        \"semantic_type\": \"\",\n        \"description\": \"\"\n      }\n    },\n    {\n      \"column\": \"alcohol_consumption\",\n      \"properties\": {\n        \"dtype\": \"category\",\n        \"num_unique_values\": 4,\n        \"samples\": [\n          \"Former\",\n          \"Not informed\",\n          \"No\"\n        ],\n        \"semantic_type\": \"\",\n        \"description\": \"\"\n      }\n    },\n    {\n      \"column\": \"sun_exposure\",\n      \"properties\": {\n        \"dtype\": \"category\",\n        \"num_unique_values\": 3,\n        \"samples\": [\n          \"No\",\n          \"Yes\",\n          \"Not informed\"\n        ],\n        \"semantic_type\": \"\",\n        \"description\": \"\"\n      }\n    },\n    {\n      \"column\": \"gender\",\n      \"properties\": {\n        \"dtype\": \"category\",\n        \"num_unique_values\": 2,\n        \"samples\": [\n          \"F\",\n          \"M\"\n        ],\n        \"semantic_type\": \"\",\n        \"description\": \"\"\n      }\n    },\n    {\n      \"column\": \"skin_color\",\n      \"properties\": {\n        \"dtype\": \"category\",\n        \"num_unique_values\": 6,\n        \"samples\": [\n          \"Black\",\n          \"White\"\n        ],\n        \"semantic_type\": \"\",\n        \"description\": \"\"\n      }\n    },\n    {\n      \"column\": \"age_group\",\n      \"properties\": {\n        \"dtype\": \"number\",\n        \"std\": 1,\n        \"min\": 0,\n        \"max\": 5,\n        \"num_unique_values\": 6,\n        \"samples\": [\n          2,\n          1\n        ],\n        \"semantic_type\": \"\",\n        \"description\": \"\"\n      }\n    },\n    {\n      \"column\": \"larger_size\",\n      \"properties\": {\n        \"dtype\": \"number\",\n        \"std\": 0.959471605448383,\n        \"min\": 0.0,\n        \"max\": 6.0,\n        \"num_unique_values\": 50,\n        \"samples\": [\n          0.1,\n          4.1\n        ],\n        \"semantic_type\": \"\",\n        \"description\": \"\"\n      }\n    },\n    {\n      \"column\": \"localization\",\n      \"properties\": {\n        \"dtype\": \"category\",\n        \"num_unique_values\": 9,\n        \"samples\": [\n          \"Gum\",\n          \"Lip\"\n        ],\n        \"semantic_type\": \"\",\n        \"description\": \"\"\n      }\n    },\n    {\n      \"column\": \"dysplasia_severity\",\n      \"properties\": {\n        \"dtype\": \"category\",\n        \"num_unique_values\": 3,\n        \"samples\": [\n          \"Mild\",\n          \"Severe\"\n        ],\n        \"semantic_type\": \"\",\n        \"description\": \"\"\n      }\n    },\n    {\n      \"column\": \"diagnosis\",\n      \"properties\": {\n        \"dtype\": \"category\",\n        \"num_unique_values\": 7,\n        \"samples\": [\n          \"OSCC\",\n          \"Leukoplakia with dysplasia\"\n        ],\n        \"semantic_type\": \"\",\n        \"description\": \"\"\n      }\n    }\n  ]\n}"
            }
          },
          "metadata": {},
          "execution_count": 41
        }
      ]
    },
    {
      "cell_type": "markdown",
      "source": [
        "**Handle Missing Values**"
      ],
      "metadata": {
        "id": "6XwFXqSlTSor"
      }
    },
    {
      "cell_type": "code",
      "source": [
        "# Handle missing values (example: fill with mode)\n",
        "data['dysplasia_severity'] = data['dysplasia_severity'].fillna(data['dysplasia_severity'].mode()[0])"
      ],
      "metadata": {
        "id": "czq3c69nNuLE"
      },
      "execution_count": null,
      "outputs": []
    },
    {
      "cell_type": "code",
      "source": [
        "# Fill missing values in 'lesion_size' if any (e.g., with median or mode)\n",
        "data['larger_size'] = data['larger_size'].fillna(data['larger_size'].median())"
      ],
      "metadata": {
        "id": "ilISWeMHTRd-"
      },
      "execution_count": null,
      "outputs": []
    },
    {
      "cell_type": "markdown",
      "source": [
        "**Encode Categorical Variables (Including Lesion Location)**"
      ],
      "metadata": {
        "id": "YjiK3mFgTsRq"
      }
    },
    {
      "cell_type": "code",
      "source": [
        "# Encode categorical columns to numerical values\n",
        "label_encoders = {}\n",
        "categorical_columns = ['tobacco_use', 'alcohol_consumption', 'sun_exposure',\n",
        "                       'gender', 'skin_color', 'localization']\n",
        "\n",
        "for column in categorical_columns:\n",
        "    le = LabelEncoder()\n",
        "    data[column] = le.fit_transform(data[column])\n",
        "    label_encoders[column] = le  # Store encoders for future use"
      ],
      "metadata": {
        "id": "rR8aEcLHN1jK"
      },
      "execution_count": null,
      "outputs": []
    },
    {
      "cell_type": "markdown",
      "source": [
        "**One-hot encode categorical variables**"
      ],
      "metadata": {
        "id": "StSQgFbGHeYV"
      }
    },
    {
      "cell_type": "code",
      "source": [
        "categorical_columns = ['tobacco_use', 'alcohol_consumption', 'sun_exposure', 'gender', 'skin_color']\n",
        "data = pd.get_dummies(data, columns=categorical_columns, drop_first=True)\n"
      ],
      "metadata": {
        "id": "_AvYjKnkHjX8"
      },
      "execution_count": null,
      "outputs": []
    },
    {
      "cell_type": "markdown",
      "source": [
        "**Calculate correlation matrix**"
      ],
      "metadata": {
        "id": "hCKfX-nOM-aM"
      }
    },
    {
      "cell_type": "code",
      "source": [
        "# Convert 'localization' to numeric using a mapping for ordinal values\n",
        "if data['localization'].dtype == object:  # Check if the column is of object type\n",
        "    # Define the mapping\n",
        "    localization_mapping = {'Mild': 0, 'Moderate': 1, 'Severe': 2}  # Adjust mapping if needed\n",
        "\n",
        "    # Map the values in the column\n",
        "    data['localization'] = data['localization'].map(localization_mapping)\n",
        "\n",
        "    # Check for any unmapped or NaN values after mapping\n",
        "    data['localization'] = data['localization'].fillna(-1)  # Replace NaN with -1 or another value if necessary\n",
        "\n",
        "# Check if all columns are numeric before calculating correlation\n",
        "numeric_data = data.select_dtypes(include=['number'])\n",
        "\n",
        "# Calculate correlation matrix\n",
        "correlation_matrix = numeric_data.corr()\n"
      ],
      "metadata": {
        "id": "wkF6cRdjNAo0"
      },
      "execution_count": null,
      "outputs": []
    },
    {
      "cell_type": "markdown",
      "source": [
        "**Plot heatmap**"
      ],
      "metadata": {
        "id": "w3mOSRb3NGaX"
      }
    },
    {
      "cell_type": "code",
      "source": [
        "import seaborn as sns\n",
        "import matplotlib.pyplot as plt\n",
        "\n",
        "plt.figure(figsize=(10, 8))\n",
        "sns.heatmap(correlation_matrix, annot=True, cmap='coolwarm', fmt='.2f')\n",
        "plt.title(\"Correlation Heatmap\")\n",
        "plt.show()"
      ],
      "metadata": {
        "colab": {
          "base_uri": "https://localhost:8080/",
          "height": 699
        },
        "id": "PfkFOqWjNISG",
        "outputId": "4a236803-a5c5-49e3-9982-91c5cf0d914b"
      },
      "execution_count": null,
      "outputs": [
        {
          "output_type": "display_data",
          "data": {
            "text/plain": [
              "<Figure size 1000x800 with 2 Axes>"
            ],
            "image/png": "[encoded data removed]"
          },
          "metadata": {}
        }
      ]
    },
    {
      "cell_type": "markdown",
      "source": [
        "**Select Features and Target Variable**"
      ],
      "metadata": {
        "id": "v-4oHfuLUD7u"
      }
    },
    {
      "cell_type": "code",
      "source": [
        "# Define features and target\n",
        "features = [col for col in [\n",
        "    'tobacco_use_1', 'alcohol_consumption_1', 'sun_exposure_1',\n",
        "    'gender_1', 'skin_color_1', 'age_group', 'localization', 'larger_size'\n",
        "] if col in data.columns]  # Only include columns that exist in the DataFrame\n",
        "\n",
        "X = data[features]\n",
        "y = data['diagnosis'].apply(lambda x: 1 if x == 'OSCC' else 0)\n",
        "\n",
        "print(\"Features selected successfully!\")\n",
        "print(\"Feature columns:\", features)"
      ],
      "metadata": {
        "id": "ozzh4hh0PSnu",
        "colab": {
          "base_uri": "https://localhost:8080/"
        },
        "outputId": "397b0cae-84ef-453b-f9fc-b7cd97e453a7"
      },
      "execution_count": null,
      "outputs": [
        {
          "output_type": "stream",
          "name": "stdout",
          "text": [
            "Features selected successfully!\n",
            "Feature columns: ['tobacco_use_1', 'alcohol_consumption_1', 'sun_exposure_1', 'gender_1', 'skin_color_1', 'age_group', 'localization', 'larger_size']\n"
          ]
        }
      ]
    },
    {
      "cell_type": "markdown",
      "source": [
        "**Split Data into Training and Testing Sets**"
      ],
      "metadata": {
        "id": "Al4AKVLBUNMW"
      }
    },
    {
      "cell_type": "code",
      "source": [
        "# Split the dataset into training (80%) and testing (20%) sets\n",
        "X_train, X_test, y_train, y_test = train_test_split(X, y, test_size=0.2, random_state=42)"
      ],
      "metadata": {
        "id": "Cmwj3JMaPZ20"
      },
      "execution_count": null,
      "outputs": []
    },
    {
      "cell_type": "markdown",
      "source": [
        "**Feature Scaling**"
      ],
      "metadata": {
        "id": "JZ69o-mLUT2q"
      }
    },
    {
      "cell_type": "code",
      "source": [
        "# Apply feature scaling to standardize the data\n",
        "scaler = StandardScaler()\n",
        "X_train = scaler.fit_transform(X_train)  # Fit and transform the training set\n",
        "X_test = scaler.transform(X_test)        # Transform the test set (using the same scaler)"
      ],
      "metadata": {
        "id": "4fw8td3BUblf"
      },
      "execution_count": null,
      "outputs": []
    },
    {
      "cell_type": "markdown",
      "source": [
        "**Check the Preprocessed Data**"
      ],
      "metadata": {
        "id": "72bylLtNU1-q"
      }
    },
    {
      "cell_type": "code",
      "source": [
        "# Display the shapes of the processed datasets\n",
        "print(f\"X_train shape: {X_train.shape}\")\n",
        "print(f\"X_test shape: {X_test.shape}\")\n",
        "print(f\"y_train shape: {y_train.shape}\")\n",
        "print(f\"y_test shape: {y_test.shape}\")\n",
        "\n",
        "# Optionally, display a sample of the preprocessed data\n",
        "print(\"Sample preprocessed X_train:\\n\", X_train[:5])"
      ],
      "metadata": {
        "colab": {
          "base_uri": "https://localhost:8080/"
        },
        "id": "STo7QQ3gU4OF",
        "outputId": "b9433a53-e160-47cc-8df2-d7ccdb6bcf36"
      },
      "execution_count": null,
      "outputs": [
        {
          "output_type": "stream",
          "name": "stdout",
          "text": [
            "X_train shape: (1789, 8)\n",
            "X_test shape: (448, 8)\n",
            "y_train shape: (1789,)\n",
            "y_test shape: (448,)\n",
            "Sample preprocessed X_train:\n",
            " [[-0.6917459   1.43279483 -0.24203281 -1.02662601  1.79702933  0.43076119\n",
            "   0.48292889  1.87210902]\n",
            " [-0.6917459  -0.69793663 -0.24203281  0.97406455 -0.55647394 -0.31525214\n",
            "   0.48292889  1.45992478]\n",
            " [ 1.44561752 -0.69793663 -0.24203281 -1.02662601 -0.55647394  0.43076119\n",
            "   0.0831326   0.6355563 ]\n",
            " [ 1.44561752  1.43279483 -0.24203281 -1.02662601 -0.55647394 -0.31525214\n",
            "   1.28252147  1.6660169 ]\n",
            " [-0.6917459   1.43279483 -0.24203281  0.97406455 -0.55647394 -0.31525214\n",
            "   1.28252147 -0.3949043 ]]\n"
          ]
        }
      ]
    },
    {
      "cell_type": "markdown",
      "source": [
        "**Exploratory Data Analysis**"
      ],
      "metadata": {
        "id": "AGdB-8BZR8PQ"
      }
    },
    {
      "cell_type": "code",
      "source": [
        "import matplotlib.pyplot as plt\n",
        "import seaborn as sns\n",
        "\n",
        "sns.countplot(x=y)\n",
        "plt.title(\"Class Distribution\")\n",
        "plt.show()"
      ],
      "metadata": {
        "colab": {
          "base_uri": "https://localhost:8080/",
          "height": 472
        },
        "id": "J6xEWwPzR-qf",
        "outputId": "ba7f5e8b-7de5-4d45-a66b-ed816b00c22a"
      },
      "execution_count": null,
      "outputs": [
        {
          "output_type": "display_data",
          "data": {
            "text/plain": [
              "<Figure size 640x480 with 1 Axes>"
            ],
            "image/png": "[encoded data removed]"
          },
          "metadata": {}
        }
      ]
    },
    {
      "cell_type": "markdown",
      "source": [
        "## **Model Training**\n",
        "**1. Logistic Regression**"
      ],
      "metadata": {
        "id": "kxryHHQNb_Hc"
      }
    },
    {
      "cell_type": "code",
      "source": [
        "from sklearn.linear_model import LogisticRegression\n",
        "from sklearn.metrics import accuracy_score, classification_report\n",
        "\n",
        "# Train Logistic Regression model\n",
        "log_reg_model = LogisticRegression(random_state=42)\n",
        "log_reg_model.fit(X_train, y_train)\n",
        "\n",
        "# Predict and evaluate\n",
        "y_pred_log_reg = log_reg_model.predict(X_test)\n",
        "print(\"Logistic Regression Accuracy:\", accuracy_score(y_test, y_pred_log_reg))\n",
        "print(\"Classification Report:\\n\", classification_report(y_test, y_pred_log_reg))"
      ],
      "metadata": {
        "colab": {
          "base_uri": "https://localhost:8080/"
        },
        "id": "t_FFEUMDb-tK",
        "outputId": "11303df9-6617-4c2f-9061-fb68c3cabb37"
      },
      "execution_count": null,
      "outputs": [
        {
          "output_type": "stream",
          "name": "stdout",
          "text": [
            "Logistic Regression Accuracy: 0.7232142857142857\n",
            "Classification Report:\n",
            "               precision    recall  f1-score   support\n",
            "\n",
            "           0       0.72      1.00      0.84       324\n",
            "           1       0.00      0.00      0.00       124\n",
            "\n",
            "    accuracy                           0.72       448\n",
            "   macro avg       0.36      0.50      0.42       448\n",
            "weighted avg       0.52      0.72      0.61       448\n",
            "\n"
          ]
        },
        {
          "output_type": "stream",
          "name": "stderr",
          "text": [
            "/usr/local/lib/python3.10/dist-packages/sklearn/metrics/_classification.py:1531: UndefinedMetricWarning: Precision is ill-defined and being set to 0.0 in labels with no predicted samples. Use `zero_division` parameter to control this behavior.\n",
            "  _warn_prf(average, modifier, f\"{metric.capitalize()} is\", len(result))\n",
            "/usr/local/lib/python3.10/dist-packages/sklearn/metrics/_classification.py:1531: UndefinedMetricWarning: Precision is ill-defined and being set to 0.0 in labels with no predicted samples. Use `zero_division` parameter to control this behavior.\n",
            "  _warn_prf(average, modifier, f\"{metric.capitalize()} is\", len(result))\n",
            "/usr/local/lib/python3.10/dist-packages/sklearn/metrics/_classification.py:1531: UndefinedMetricWarning: Precision is ill-defined and being set to 0.0 in labels with no predicted samples. Use `zero_division` parameter to control this behavior.\n",
            "  _warn_prf(average, modifier, f\"{metric.capitalize()} is\", len(result))\n"
          ]
        }
      ]
    },
    {
      "cell_type": "markdown",
      "source": [
        "**2. Decision Tree**"
      ],
      "metadata": {
        "id": "QG8r_lNrcIK8"
      }
    },
    {
      "cell_type": "code",
      "source": [
        "from sklearn.tree import DecisionTreeClassifier\n",
        "\n",
        "# Train Decision Tree model\n",
        "dt_model = DecisionTreeClassifier(random_state=42)\n",
        "dt_model.fit(X_train, y_train)\n",
        "\n",
        "# Predict and evaluate\n",
        "y_pred_dt = dt_model.predict(X_test)\n",
        "print(\"Decision Tree Accuracy:\", accuracy_score(y_test, y_pred_dt))\n",
        "print(\"Classification Report:\\n\", classification_report(y_test, y_pred_dt))"
      ],
      "metadata": {
        "colab": {
          "base_uri": "https://localhost:8080/"
        },
        "id": "-N_qvQrucN1K",
        "outputId": "74bb00fa-2236-410a-f1a8-ec686ba25cdf"
      },
      "execution_count": null,
      "outputs": [
        {
          "output_type": "stream",
          "name": "stdout",
          "text": [
            "Decision Tree Accuracy: 0.6517857142857143\n",
            "Classification Report:\n",
            "               precision    recall  f1-score   support\n",
            "\n",
            "           0       0.77      0.74      0.76       324\n",
            "           1       0.38      0.41      0.40       124\n",
            "\n",
            "    accuracy                           0.65       448\n",
            "   macro avg       0.57      0.58      0.58       448\n",
            "weighted avg       0.66      0.65      0.66       448\n",
            "\n"
          ]
        }
      ]
    },
    {
      "cell_type": "markdown",
      "source": [
        "**3. Random Forest**"
      ],
      "metadata": {
        "id": "dNUK33T4cR2S"
      }
    },
    {
      "cell_type": "code",
      "source": [
        "from sklearn.ensemble import RandomForestClassifier\n",
        "\n",
        "# Train Random Forest model\n",
        "rf_model = RandomForestClassifier(random_state=42)\n",
        "rf_model.fit(X_train, y_train)\n",
        "\n",
        "# Predict and evaluate\n",
        "y_pred_rf = rf_model.predict(X_test)\n",
        "print(\"Random Forest Accuracy:\", accuracy_score(y_test, y_pred_rf))\n",
        "print(\"Classification Report:\\n\", classification_report(y_test, y_pred_rf))"
      ],
      "metadata": {
        "colab": {
          "base_uri": "https://localhost:8080/"
        },
        "id": "3QimMX8icYCV",
        "outputId": "cc79f2b2-89a9-4f7b-9e5d-165a84270c8b"
      },
      "execution_count": null,
      "outputs": [
        {
          "output_type": "stream",
          "name": "stdout",
          "text": [
            "Random Forest Accuracy: 0.6919642857142857\n",
            "Classification Report:\n",
            "               precision    recall  f1-score   support\n",
            "\n",
            "           0       0.76      0.83      0.80       324\n",
            "           1       0.43      0.32      0.37       124\n",
            "\n",
            "    accuracy                           0.69       448\n",
            "   macro avg       0.59      0.58      0.58       448\n",
            "weighted avg       0.67      0.69      0.68       448\n",
            "\n"
          ]
        }
      ]
    }
  ]
}